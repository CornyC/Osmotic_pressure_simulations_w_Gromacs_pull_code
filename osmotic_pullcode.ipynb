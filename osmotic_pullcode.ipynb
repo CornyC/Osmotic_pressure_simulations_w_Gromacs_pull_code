{
 "cells": [
  {
   "cell_type": "code",
   "execution_count": 1,
   "id": "0c9cabd4-774f-4685-9b51-4f6a35e06cb8",
   "metadata": {},
   "outputs": [
    {
     "data": {
      "application/vnd.jupyter.widget-view+json": {
       "model_id": "67ce71d9ee5e4784848ec73169444a46",
       "version_major": 2,
       "version_minor": 0
      },
      "text/plain": []
     },
     "metadata": {},
     "output_type": "display_data"
    }
   ],
   "source": [
    "import os\n",
    "import MDAnalysis as mda\n",
    "import nglview as nv\n",
    "import numpy as np"
   ]
  },
  {
   "cell_type": "markdown",
   "id": "f30a5b99-6bba-4eff-b415-9ac91d2cb4ed",
   "metadata": {},
   "source": [
    "use gromacs to construct the box"
   ]
  },
  {
   "cell_type": "code",
   "execution_count": 2,
   "id": "7ddaf3a9-3360-46d4-9dd3-5a8fe28386b0",
   "metadata": {},
   "outputs": [
    {
     "name": "stdout",
     "output_type": "stream",
     "text": [
      "/usr/local/gmx2023/bin/gmx\n"
     ]
    },
    {
     "data": {
      "text/plain": [
       "0"
      ]
     },
     "execution_count": 2,
     "metadata": {},
     "output_type": "execute_result"
    }
   ],
   "source": [
    "os.system('which gmx')"
   ]
  },
  {
   "cell_type": "code",
   "execution_count": 3,
   "id": "8e8d13fe-4f99-411c-ba28-8ab0b65b9b05",
   "metadata": {},
   "outputs": [],
   "source": [
    "concentrations = np.array([0.8, 1.6, 2.4, 3.2, 4.0], dtype='float64')#mol/L"
   ]
  },
  {
   "cell_type": "code",
   "execution_count": 4,
   "id": "cfd204c9-8526-44d0-9783-cb187f891ee3",
   "metadata": {},
   "outputs": [],
   "source": [
    "boxvol = 6.4 * 10.0**(-23) # L\n",
    "avogadro = 6.0221 * 10**(23) # 1/mol"
   ]
  },
  {
   "cell_type": "code",
   "execution_count": 5,
   "id": "bd52f319-4acd-48b0-a6ee-9612e38cbbfe",
   "metadata": {},
   "outputs": [],
   "source": [
    "moles = concentrations * boxvol\n",
    "particles = moles * avogadro\n",
    "particles = particles.astype('float64')\n",
    "particles_rounded = np.round(particles).astype('int64')"
   ]
  },
  {
   "cell_type": "code",
   "execution_count": 6,
   "id": "039964b6-8a3c-4796-8fa2-8758a1c55213",
   "metadata": {},
   "outputs": [
    {
     "data": {
      "text/plain": [
       "array([ 31,  62,  92, 123, 154])"
      ]
     },
     "execution_count": 6,
     "metadata": {},
     "output_type": "execute_result"
    }
   ],
   "source": [
    "particles_rounded"
   ]
  },
  {
   "cell_type": "code",
   "execution_count": null,
   "id": "f27e6dd7-9290-4370-a471-e5648c60fa38",
   "metadata": {},
   "outputs": [],
   "source": [
    "for conc in concentrations:\n",
    "    os.system('mkdir {}'.format(conc,'%.1f'))"
   ]
  },
  {
   "cell_type": "markdown",
   "id": "2c5372f5-bf6e-45e8-8c8c-4955c8bb9078",
   "metadata": {},
   "source": [
    "visualize and generate topology"
   ]
  },
  {
   "cell_type": "code",
   "execution_count": null,
   "id": "38c431e0-f743-4c67-9ebf-bbd7d9084d4a",
   "metadata": {},
   "outputs": [],
   "source": [
    "u = mda.Universe('optcoords.pdb')\n",
    "uv = nv.show_mdanalysis(u)\n",
    "uv.background='black'\n",
    "uv"
   ]
  },
  {
   "cell_type": "code",
   "execution_count": null,
   "id": "632f13ed-c543-4dcc-8114-f8175a6e9f48",
   "metadata": {},
   "outputs": [],
   "source": [
    "ions = u.select_atoms('not resname TIP3')"
   ]
  },
  {
   "cell_type": "code",
   "execution_count": null,
   "id": "9139c804-08cd-48f2-b2b6-8e0f25e8b7cf",
   "metadata": {},
   "outputs": [],
   "source": [
    "anions = u.select_atoms('resname MP1')"
   ]
  },
  {
   "cell_type": "code",
   "execution_count": null,
   "id": "44b77e51-8ad3-40b6-8101-4ce27b1a607e",
   "metadata": {},
   "outputs": [],
   "source": [
    "cations = u.select_atoms('resname MAM')"
   ]
  },
  {
   "cell_type": "code",
   "execution_count": null,
   "id": "5181e76f-7113-41a6-a97e-6e5737ca06eb",
   "metadata": {},
   "outputs": [],
   "source": [
    "ions.write('frame0.pdb', frames=u.trajectory[:1])"
   ]
  },
  {
   "cell_type": "code",
   "execution_count": null,
   "id": "7a90f277-bc44-453a-a770-b500ab51890d",
   "metadata": {},
   "outputs": [],
   "source": [
    "anions.write('mp1.pdb', frames=u.trajectory[:1])"
   ]
  },
  {
   "cell_type": "code",
   "execution_count": null,
   "id": "6d71404a-790f-4c5f-b4b2-85d30bb4042c",
   "metadata": {},
   "outputs": [],
   "source": [
    "cations.write('mam.pdb', frames=u.trajectory[:1])"
   ]
  },
  {
   "cell_type": "code",
   "execution_count": null,
   "id": "3199c6a7-bb09-44c2-ab6d-48bedc5ae74c",
   "metadata": {},
   "outputs": [],
   "source": [
    "os.system(\"sed -i 's/MAM /MAMM/g' frame0.pdb\")\n",
    "os.system(\"sed -i 's/MAM /MAMM/g' mam.pdb\")"
   ]
  },
  {
   "cell_type": "code",
   "execution_count": null,
   "id": "022131a2-07db-4a80-bbce-72b04e516f9d",
   "metadata": {},
   "outputs": [],
   "source": [
    "os.system(\"sed -i 's/MP1 /MP_1/g' frame0.pdb\")\n",
    "os.system(\"sed -i 's/MP1 /MP_1/g' mp1.pdb\")"
   ]
  },
  {
   "cell_type": "code",
   "execution_count": null,
   "id": "608ac49f-6e1f-4e9b-a272-7303a8939e06",
   "metadata": {
    "tags": []
   },
   "outputs": [],
   "source": [
    "os.system('( echo 1 ; echo 1 ) | gmx pdb2gmx -f mp1.pdb -o confout_mp1.pdb -p topol_mp1.top -i posre_mp1.itp')"
   ]
  },
  {
   "cell_type": "code",
   "execution_count": null,
   "id": "5fb7f653-0634-4b05-830b-b4402f3a6c8d",
   "metadata": {
    "tags": []
   },
   "outputs": [],
   "source": [
    "os.system('( echo 1 ; echo 1 ) | gmx pdb2gmx -f mam.pdb -o confout_mam.pdb -p topol_mam.top -i posre_mam.itp')"
   ]
  },
  {
   "cell_type": "raw",
   "id": "0435cd2a-b4e8-4a10-830d-a0565b8a1824",
   "metadata": {},
   "source": [
    "run sed -i 's/\".\\/charmm36-jul2022/\"..\\/charmm36-jul2022/g' topol.top in folder (escaped slashes cannot be parsed here)\n",
    "and sed -i 's/\".\\/charmm36-jul2022/\"..\\/charmm36-jul2022/g' topol_mp1.top\n",
    "sed -i 's/\".\\/charmm36-jul2022/\"..\\/charmm36-jul2022/g' topol_mam.top"
   ]
  },
  {
   "cell_type": "code",
   "execution_count": null,
   "id": "58a9c59f-8e1d-4d8b-a590-69c60c1e4638",
   "metadata": {
    "tags": []
   },
   "outputs": [],
   "source": [
    "for conc_nr, conc in enumerate(concentrations):\n",
    "    os.chdir('{}'.format(conc, '%.1f'))\n",
    "    os.system('cp ../confout_mp1.pdb .')\n",
    "    os.system('cp ../topol_mp1.top topol_mp1.itp')\n",
    "    os.system('cp ../confout_mam.pdb .')\n",
    "    os.system('cp ../topol_mam.top topol_mam.itp')\n",
    "    os.system('gmx insert-molecules -ci confout_mp1.pdb -box 4 4 4 -nmol {} -o box.pdb'.format(particles_rounded[conc_nr], '%s'))\n",
    "    os.system('gmx insert-molecules -f box.pdb -ci confout_mam.pdb -box 4 4 4 -nmol {} -o box.pdb'.format(particles_rounded[conc_nr], '%s'))\n",
    "    os.system('touch topol.top')\n",
    "    os.chdir('..')"
   ]
  },
  {
   "cell_type": "markdown",
   "id": "6453b94f-0e44-4883-ad86-8031dc1b7465",
   "metadata": {},
   "source": [
    "edit topol.top in each folder: import the itps and change system name and number of mols\n",
    "(example in 0.8)"
   ]
  },
  {
   "cell_type": "raw",
   "id": "07949568-a960-43e9-87a7-61697646e8e9",
   "metadata": {},
   "source": [
    "; Include forcefield parameters\n",
    "#include \"../charmm36-jul2022.ff/forcefield.itp\"\n",
    "\n",
    "; Include mp1 topol\n",
    "#include \"topol_mp1.itp\"\n",
    "\n",
    "; mp1 position restraints\n",
    "#ifdef POSRESMP1MAM\n",
    "#include \"posre_mp1.itp\"\n",
    "#endif\n",
    "\n",
    "#include \"topol_mam.itp\"\n",
    "\n",
    "; mam Position restraint file\n",
    "#ifdef POSRESMP1MAM\n",
    "#include \"posre_mam.itp\"\n",
    "#endif\n",
    "\n",
    "; Include water topology\n",
    "#include \"../charmm36-jul2022.ff/tip3p.itp\"\n",
    "\n",
    "#ifdef POSRES_WATER\n",
    "; Position restraint for each water oxygen\n",
    "[ position_restraints ]\n",
    ";  i funct       fcx        fcy        fcz\n",
    "   1    1       1000       1000       1000\n",
    "#endif\n",
    "\n",
    "; Include topology for ions\n",
    "#include \"../charmm36-jul2022.ff/ions.itp\"\n",
    "\n",
    "[ system ]\n",
    "; Name\n",
    "MP_1_MAMM\n",
    "\n",
    "[ molecules ]\n",
    "; Compound        #mols\n",
    "MP_1              31\n",
    "MAMM              31"
   ]
  },
  {
   "cell_type": "markdown",
   "id": "8f8fe087-d262-4652-8c8a-1f857ec0585e",
   "metadata": {},
   "source": [
    "edit topol_mp1.itp and topol_mam.itp and remove everything below dihedrals and above moleculetype in 0.8"
   ]
  },
  {
   "cell_type": "raw",
   "id": "a0329633-5a3b-4481-adb5-f42ea8068ec3",
   "metadata": {},
   "source": [
    "[ moleculetype ]\n",
    "; Name            nrexcl\n",
    "MP_1               3\n",
    "\n",
    "[ atoms ]\n",
    ";   nr       type  resnr residue  atom   cgnr     charge       mass  typeB    chargeB      massB\n",
    "; residue   2 MP_1 rtp MP_1 q -1.0\n",
    "     1      CG331      2   MP_1     C1      1      -0.17     12.011\n",
    "     2      OG303      2   MP_1     O1      1      -0.62    15.9994\n",
    "     3        PG1      2   MP_1     P1      1        1.5    30.9738\n",
    "     4      OG311      2   MP_1     O2      1      -0.67    15.9994\n",
    "     5      OG2P1      2   MP_1     O3      1      -0.82    15.9994\n",
    "     6      OG2P1      2   MP_1     O4      1      -0.82    15.9994\n",
    "     7       HGA3      2   MP_1    H11      1       0.09      1.008\n",
    "     8       HGA3      2   MP_1    H12      1       0.09      1.008\n",
    "     9       HGA3      2   MP_1    H13      1       0.09      1.008\n",
    "    10       HGP1      2   MP_1     H2      1       0.33      1.008   ; qtot -1\n",
    "\n",
    "[ bonds ]\n",
    ";  ai    aj funct            c0            c1            c2            c3\n",
    "    1     2     1 \n",
    "    1     7     1 \n",
    "    1     8     1 \n",
    "    1     9     1 \n",
    "    2     3     1 \n",
    "    3     4     1 \n",
    "    3     5     1 \n",
    "    3     6     1 \n",
    "    4    10     1 \n",
    "\n",
    "[ pairs ]\n",
    ";  ai    aj funct            c0            c1            c2            c3\n",
    "    1     4     1 \n",
    "    1     5     1 \n",
    "    1     6     1 \n",
    "    2    10     1 \n",
    "    3     7     1 \n",
    "    3     8     1 \n",
    "    3     9     1 \n",
    "    5    10     1 \n",
    "    6    10     1 \n",
    "\n",
    "[ angles ]\n",
    ";  ai    aj    ak funct            c0            c1            c2            c3\n",
    "    2     1     7     5 \n",
    "    2     1     8     5 \n",
    "    2     1     9     5 \n",
    "    7     1     8     5 \n",
    "    7     1     9     5 \n",
    "    8     1     9     5 \n",
    "    1     2     3     5 \n",
    "    2     3     4     5 \n",
    "    2     3     5     5 \n",
    "    2     3     6     5 \n",
    "    4     3     5     5 \n",
    "    4     3     6     5 \n",
    "    5     3     6     5 \n",
    "    3     4    10     5 \n",
    "\n",
    "[ dihedrals ]\n",
    ";  ai    aj    ak    al funct            c0            c1            c2            c3            c4            c5\n",
    "    7     1     2     3     9 \n",
    "    8     1     2     3     9 \n",
    "    9     1     2     3     9 \n",
    "    1     2     3     4     9 \n",
    "    1     2     3     5     9 \n",
    "    1     2     3     6     9 \n",
    "    2     3     4    10     9 \n",
    "    5     3     4    10     9 \n",
    "    6     3     4    10     9 "
   ]
  },
  {
   "cell_type": "markdown",
   "id": "48d27112-d213-4418-a20d-f140cce29f7d",
   "metadata": {},
   "source": [
    "...and copy them to the other folders..."
   ]
  },
  {
   "cell_type": "code",
   "execution_count": null,
   "id": "7beecfe5-79fa-4ff8-add4-f53d8d0916b6",
   "metadata": {},
   "outputs": [],
   "source": [
    "for conc_nr, conc in enumerate(concentrations):\n",
    "    os.chdir('{}'.format(conc, '%.1f'))\n",
    "    if conc_nr != 0:\n",
    "        os.system('cp ../0.8/topol_mp1.itp .')\n",
    "        os.system('cp ../0.8/topol_mam.itp .')\n",
    "    os.chdir('..')"
   ]
  },
  {
   "cell_type": "markdown",
   "id": "1d81935f-4d06-45ef-9ad8-7d5cbf694a72",
   "metadata": {},
   "source": [
    "copy the position restraint files"
   ]
  },
  {
   "cell_type": "code",
   "execution_count": null,
   "id": "8b49106d-52db-462e-a458-1cea20406f24",
   "metadata": {},
   "outputs": [],
   "source": [
    "for conc_nr, conc in enumerate(concentrations):\n",
    "    os.chdir('{}'.format(conc, '%.1f'))\n",
    "    os.system('cp ../posre_mp1.itp .')\n",
    "    os.system('cp ../posre_mam.itp .')\n",
    "    os.chdir('..')"
   ]
  },
  {
   "cell_type": "markdown",
   "id": "915671b3-7734-4a24-ab6d-3c2dfb1c2f12",
   "metadata": {},
   "source": [
    "solvate"
   ]
  },
  {
   "cell_type": "code",
   "execution_count": null,
   "id": "8c1e53fc-6d63-4669-ac59-e0fc32b42e5a",
   "metadata": {
    "tags": []
   },
   "outputs": [],
   "source": [
    "for conc_nr, conc in enumerate(concentrations):\n",
    "    os.chdir('{}'.format(conc, '%.1f'))\n",
    "    os.system('gmx solvate -cp box.pdb -p topol.top -box 4 4 4 -o box_solv.pdb')\n",
    "    os.chdir('..')"
   ]
  },
  {
   "cell_type": "markdown",
   "id": "ddff29e9-df79-4158-a0ed-9c8bd194ab38",
   "metadata": {},
   "source": [
    "run an energy minimization"
   ]
  },
  {
   "cell_type": "code",
   "execution_count": null,
   "id": "9f35cebb-354d-47e7-86f6-df65bec9a9b2",
   "metadata": {
    "tags": []
   },
   "outputs": [],
   "source": [
    "for conc_nr, conc in enumerate(concentrations):\n",
    "    os.chdir('{}'.format(conc, '%.1f'))\n",
    "    os.system('cp ../em.mdp .')\n",
    "    os.system(\"echo 'q' | gmx make_ndx -f box_solv.pdb -o system.ndx &> make_ndx.log\")\n",
    "    os.system('gmx grompp -f em.mdp -c box_solv.pdb -p topol.top -o em.tpr -maxwarn 1')\n",
    "    os.system('gmx mdrun -deffnm em -pin on -ntmpi 1 -ntomp 3 -c em.pdb')\n",
    "    os.chdir('..')"
   ]
  },
  {
   "cell_type": "markdown",
   "id": "9701e976-ece5-4999-b5e8-e6908f4c9f4a",
   "metadata": {},
   "source": [
    "equilibrate"
   ]
  },
  {
   "cell_type": "code",
   "execution_count": null,
   "id": "e7a2860b-5d3b-4470-8c6f-bf3943100cb2",
   "metadata": {
    "tags": []
   },
   "outputs": [],
   "source": [
    "for conc_nr, conc in enumerate(concentrations):\n",
    "    os.chdir('{}'.format(conc, '%.1f'))\n",
    "    os.system('cp ../nvt.mdp .')\n",
    "    os.system('gmx grompp -f nvt.mdp -c em.pdb -p topol.top -o nvt.tpr -maxwarn 1')\n",
    "    os.system('gmx mdrun -deffnm nvt -pin on -ntmpi 1 -ntomp 3 -c nvt.pdb')\n",
    "    os.chdir('..')"
   ]
  },
  {
   "cell_type": "markdown",
   "id": "bebab467-c9d8-4633-b21d-65fdfb1a703a",
   "metadata": {},
   "source": [
    "extend the box:"
   ]
  },
  {
   "cell_type": "code",
   "execution_count": null,
   "id": "b2687e6e-0676-4067-b54b-d25251a08595",
   "metadata": {
    "tags": []
   },
   "outputs": [],
   "source": [
    "for conc_nr, conc in enumerate(concentrations):\n",
    "    os.chdir('{}'.format(conc, '%.1f'))\n",
    "    os.system('gmx editconf -f nvt.pdb -o elongated_box.pdb -box 4 4 10 -translate 0 0 3')\n",
    "    os.chdir('..')"
   ]
  },
  {
   "cell_type": "markdown",
   "id": "7eec3a81-c538-491b-9e5d-6ef74c9ad826",
   "metadata": {},
   "source": [
    "fill with water"
   ]
  },
  {
   "cell_type": "code",
   "execution_count": null,
   "id": "ae210a23-8e4b-459b-b4c4-07982972494e",
   "metadata": {
    "tags": []
   },
   "outputs": [],
   "source": [
    "for conc_nr, conc in enumerate(concentrations):\n",
    "    os.chdir('{}'.format(conc, '%.1f'))\n",
    "    os.system('gmx solvate -cp elongated_box.pdb -p topol.top -o longbox_solv.pdb -box 4 4 10')\n",
    "    os.chdir('..')"
   ]
  },
  {
   "cell_type": "markdown",
   "id": "62ab87b3-8324-4880-8a62-5ee483aa30e1",
   "metadata": {},
   "source": [
    "do position restraint minimization"
   ]
  },
  {
   "cell_type": "code",
   "execution_count": null,
   "id": "c1a1c84c-1731-4dfc-ad9d-da029620e7dc",
   "metadata": {
    "tags": []
   },
   "outputs": [],
   "source": [
    "for conc_nr, conc in enumerate(concentrations):\n",
    "    os.chdir('{}'.format(conc, '%.1f'))\n",
    "    #os.system('cp ../em_posre.mdp .')\n",
    "    os.system('gmx grompp -f em_posre.mdp -c longbox_solv.pdb -r longbox_solv.pdb -p topol.top -o em_longbox_restr.tpr -maxwarn 1')\n",
    "    os.system('gmx mdrun -deffnm em_longbox_restr -pin on -ntmpi 1 -ntomp 3 -c em_longbox_restr.pdb')\n",
    "    os.chdir('..')"
   ]
  },
  {
   "cell_type": "markdown",
   "id": "f477cd09-86ea-47bc-8631-4d5c6ec1cd9e",
   "metadata": {},
   "source": [
    "do position restraint equilibration"
   ]
  },
  {
   "cell_type": "code",
   "execution_count": null,
   "id": "44e5b761-a78e-44fa-9dbf-0535edf03129",
   "metadata": {
    "tags": []
   },
   "outputs": [],
   "source": [
    "for conc_nr, conc in enumerate(concentrations):\n",
    "    os.chdir('{}'.format(conc, '%.1f'))\n",
    "    #os.system('cp ../eq_longbox.mdp .')\n",
    "    os.system('gmx grompp -f eq_longbox.mdp -c em_longbox_restr.pdb -r em_longbox_restr.pdb -p topol.top -o eq_longbox_restr.tpr -maxwarn 1')\n",
    "    os.system('gmx mdrun -deffnm eq_longbox_restr -pin on -ntmpi 1 -ntomp 3 -c eq_longbox_restr.pdb')\n",
    "    os.chdir('..')"
   ]
  },
  {
   "cell_type": "markdown",
   "id": "553a40aa-45f4-4aa1-9612-27e100740dc9",
   "metadata": {},
   "source": [
    "create ion index for flat-bottom restraints in each concentration folder"
   ]
  },
  {
   "cell_type": "code",
   "execution_count": null,
   "id": "03464209-cd18-4070-9679-ef03f48d6627",
   "metadata": {},
   "outputs": [],
   "source": [
    "for conc_nr, conc in enumerate(concentrations):\n",
    "    \n",
    "    os.chdir('{}'.format(conc, '%.1f'))\n",
    "\n",
    "    for ion in range(particles_rounded[conc_nr]*2):\n",
    "        \n",
    "        index_groups = np.arange(1, ion+2, 1, dtype = int) #interval [1:stop) and 1 instead of 0 -> +2\n",
    "        \n",
    "        with open(\"makeindex.sh\", \"w\") as f:\n",
    "            \n",
    "            f.write(\"gmx make_ndx -f eq_longbox_restr.pdb -o lonely_ions.ndx << EOF\\n\")\n",
    "            \n",
    "            for index in index_groups:\n",
    "                \n",
    "                f.write(\"ri \"+str(index)+\"\\n\")\n",
    "                f.write(\"name \"+str(index + 6)+\" r_n_\"+str(index)+str(\"\\n\"))\n",
    "                \n",
    "            for index in index_groups:\n",
    "                \n",
    "                f.write(\"ri \"+str(index)+\"\\n\")\n",
    "            \n",
    "            f.write(\"q\\n\")\n",
    "            f.write(\"EOF\")\n",
    "            \n",
    "            f.close()\n",
    "    \n",
    "    os.chdir('..')"
   ]
  },
  {
   "cell_type": "code",
   "execution_count": null,
   "id": "6e4debc5-5a8e-42e8-9a8a-aadd53e44e92",
   "metadata": {
    "tags": []
   },
   "outputs": [],
   "source": [
    "for conc_nr, conc in enumerate(concentrations):\n",
    "    os.chdir('{}'.format(conc, '%.1f'))\n",
    "    os.system('chmod +x *.sh')\n",
    "    os.system('./makeindex.sh')\n",
    "    os.chdir('..')"
   ]
  },
  {
   "cell_type": "markdown",
   "id": "a9d7d4fd-5497-495d-83f9-9ad8893532de",
   "metadata": {},
   "source": [
    "create the two pull sections for the mdp file"
   ]
  },
  {
   "cell_type": "code",
   "execution_count": null,
   "id": "e6c8d4f0-56bc-4b96-93c6-1c5863fb6eee",
   "metadata": {},
   "outputs": [],
   "source": [
    "for conc_nr, conc in enumerate(concentrations):\n",
    "    os.chdir('{}'.format(conc, '%.1f'))\n",
    "    \n",
    "    for ion in range(particles_rounded[conc_nr]*2):\n",
    "        \n",
    "        index_groups = np.arange(1, ion+2, 1, dtype = int) #interval [1:stop) and 1 instead of 0 -> +2\n",
    "        \n",
    "        with open(\"pull_section.txt\", \"w\") as f:\n",
    "            \n",
    "            f.write(\"pull                     = yes\\n\")\n",
    "            f.write(\"pull-print-com           = yes\\n\")\n",
    "            f.write(\"pull-print-ref-value     = yes\\n\")\n",
    "            f.write(\"pull-print-components    = yes\\n\")\n",
    "            f.write(\"pull-nstxout             = 10000\\n\")\n",
    "            f.write(\"pull-nstfout             = 1\\n\")\n",
    "            f.write(\"pull-xout-average        = no\\n\")\n",
    "            f.write(\"pull-fout-average        = no\\n\")\n",
    "            f.write(\"; Number of pull groups \\n\")\n",
    "            f.write(\"pull-ngroups             = \"+str(ion*2+2)+\"\\n\")\n",
    "            f.write(\"; Number of pull coordinates\\n\")\n",
    "            f.write(\"pull-ncoords             = \"+str(ion*2+2)+\"\\n\")\n",
    "            f.write(\"\\n\")\n",
    "            \n",
    "            for index in index_groups:\n",
    "\n",
    "                f.write(\"; Group and coordinate parameters\\n\")\n",
    "                f.write(\"pull-group\"+str(index)+\"-name         = r_\"+str(index)+\"\\n\")\n",
    "                f.write(\"pull-coord\"+str(index)+\"-type         = flat-bottom\\n\")\n",
    "                f.write(\"pull-coord\"+str(index)+\"-geometry     = direction-periodic\\n\")\n",
    "                f.write(\"pull-coord\"+str(index)+\"-groups       = 0 \"+str(index)+\"\\n\")\n",
    "                f.write(\"pull-coord\"+str(index)+\"-dim          = N N Y\\n\")\n",
    "                f.write(\"pull-coord\"+str(index)+\"-origin       = 2.0 2.0 7.0\\n\")\n",
    "                f.write(\"pull-coord\"+str(index)+\"-vec          = 0.0 0.0 1.0\\n\")\n",
    "                f.write(\"pull-coord\"+str(index)+\"-init         = 0\\n\")\n",
    "                f.write(\"pull-coord\"+str(index)+\"-rate         = 0\\n\")\n",
    "                f.write(\"pull-coord\"+str(index)+\"-k            = 1000\\n\")\n",
    "    \n",
    "            for index in index_groups:\n",
    "            \n",
    "                f.write(\"; Group and coordinate parameters\\n\")\n",
    "                f.write(\"pull-group\"+str(index+ion+1)+\"-name         = r_n_\"+str(index)+\"\\n\")\n",
    "                f.write(\"pull-coord\"+str(index+ion+1)+\"-type         = flat-bottom-high\\n\")\n",
    "                f.write(\"pull-coord\"+str(index+ion+1)+\"-geometry     = direction-periodic\\n\")\n",
    "                f.write(\"pull-coord\"+str(index+ion+1)+\"-groups       = 0 \"+str(index+ion+1)+\"\\n\")\n",
    "                f.write(\"pull-coord\"+str(index+ion+1)+\"-dim          = N N Y\\n\")\n",
    "                f.write(\"pull-coord\"+str(index+ion+1)+\"-origin       = 2.0 2.0 3.0\\n\")\n",
    "                f.write(\"pull-coord\"+str(index+ion+1)+\"-vec          = 0.0 0.0 1.0\\n\")\n",
    "                f.write(\"pull-coord\"+str(index+ion+1)+\"-init         = 0\\n\")\n",
    "                f.write(\"pull-coord\"+str(index+ion+1)+\"-rate         = 0\\n\")\n",
    "                f.write(\"pull-coord\"+str(index+ion+1)+\"-k            = 1000\\n\")\n",
    "                \n",
    "            f.close()\n",
    "            \n",
    "    os.chdir('..')"
   ]
  },
  {
   "cell_type": "code",
   "execution_count": null,
   "id": "c60b937f-b4cf-4cfd-a96c-a1195e35e52c",
   "metadata": {},
   "outputs": [],
   "source": [
    "for conc_nr, conc in enumerate(concentrations):\n",
    "    os.chdir('{}'.format(conc, '%.1f'))\n",
    "    os.system('cp ../osmotic_30ns.txt .')\n",
    "    os.system('cat pull_section.txt >> osmotic_30ns.txt')\n",
    "    os.system('mv osmotic_30ns.txt osmotic_30ns.mdp')\n",
    "    os.chdir('..')"
   ]
  },
  {
   "cell_type": "markdown",
   "id": "8dbc63c0-79d7-4551-836f-a88010856dc4",
   "metadata": {},
   "source": [
    "setup and run the production"
   ]
  },
  {
   "cell_type": "code",
   "execution_count": null,
   "id": "c6640acd-cea4-467f-aefd-e6d0c8a65471",
   "metadata": {},
   "outputs": [],
   "source": [
    "for conc_nr, conc in enumerate(concentrations):\n",
    "    os.chdir('{}'.format(conc, '%.1f'))\n",
    "    os.system('gmx grompp -f osmotic_30ns.mdp -c eq_longbox_restr.pdb -p topol.top -o longbox_osmotic.tpr -n lonely_ions.ndx -maxwarn 1')\n",
    "    os.chdir('..')"
   ]
  },
  {
   "cell_type": "code",
   "execution_count": null,
   "id": "077a23df-d4bd-4d02-9e3c-29ef77491168",
   "metadata": {},
   "outputs": [],
   "source": [
    "for conc_nr, conc in enumerate(concentrations):\n",
    "    os.chdir('{}'.format(conc, '%.1f'))\n",
    "    os.system('gmx mdrun -deffnm longbox_osmotic -pin on -ntmpi 1 -ntomp 8 -v -c longbox_osmotic.pdb -pf osmotic_force.xvg -px osmotic_coord.xvg')\n",
    "    os.chdir('..')"
   ]
  },
  {
   "cell_type": "markdown",
   "id": "f3c73cf6-b9b7-4044-809d-9b7a3cbef7f8",
   "metadata": {},
   "source": [
    "do pbcmol"
   ]
  },
  {
   "cell_type": "code",
   "execution_count": null,
   "id": "2bb5aaf2-0a30-490b-aac0-f45e3bce08cf",
   "metadata": {},
   "outputs": [],
   "source": [
    "for conc_nr, conc in enumerate(concentrations):\n",
    "    os.chdir('{}'.format(conc, '%.1f'))\n",
    "    os.system('echo 6 | gmx trjconv -f longbox_osmotic.xtc -pbc mol -s longbox_osmotic.tpr -o longbox_osmotic_pbcmol.xtc -n lonely_ions.ndx') # group 6 is non-water\n",
    "    os.chdir('..')"
   ]
  },
  {
   "cell_type": "markdown",
   "id": "1682756d-5b24-4628-9718-2ca1808872e4",
   "metadata": {},
   "source": [
    "## Analyze"
   ]
  },
  {
   "cell_type": "code",
   "execution_count": null,
   "id": "cd4a5264-414a-4154-8700-2c7d0f967269",
   "metadata": {},
   "outputs": [],
   "source": [
    "os.getcwd() # show path of current workdir"
   ]
  },
  {
   "cell_type": "code",
   "execution_count": null,
   "id": "4abf3061-a2dd-4c16-b40d-41ad71849908",
   "metadata": {},
   "outputs": [],
   "source": [
    "os.chdir('1.6') # cd into whichever folder you want to analyze"
   ]
  },
  {
   "cell_type": "code",
   "execution_count": null,
   "id": "b2bb3d5a-4310-433d-aa92-1ac584bc9bef",
   "metadata": {},
   "outputs": [],
   "source": [
    "os.getcwd() # make sure you're in the correct folder"
   ]
  },
  {
   "cell_type": "markdown",
   "id": "57490ef1-e8bd-49e1-bd2a-c3614cbb494d",
   "metadata": {},
   "source": [
    "use ur editor of choice to create the ionsonly.pdb (delete the waters)"
   ]
  },
  {
   "cell_type": "code",
   "execution_count": null,
   "id": "73d0cc9f-800a-43d7-9aed-46ac3804810a",
   "metadata": {},
   "outputs": [],
   "source": [
    "top = 'longbox_osmotic_ionsonly.pdb'\n",
    "traj = 'longbox_osmotic_pbcmol.xtc'"
   ]
  },
  {
   "cell_type": "code",
   "execution_count": null,
   "id": "cb516243-397e-4bfa-a0c8-99fd84cc523b",
   "metadata": {},
   "outputs": [],
   "source": [
    "u = mda.Universe(top, traj)"
   ]
  },
  {
   "cell_type": "code",
   "execution_count": null,
   "id": "0f59a8bd-fbb1-4dac-8ca1-4506341bf95d",
   "metadata": {},
   "outputs": [],
   "source": [
    "uv = nv.show_mdanalysis(u)"
   ]
  },
  {
   "cell_type": "code",
   "execution_count": null,
   "id": "7ace29ac-5ef2-4336-b099-562ddd0fc2b0",
   "metadata": {},
   "outputs": [],
   "source": [
    "uv"
   ]
  },
  {
   "cell_type": "code",
   "execution_count": null,
   "id": "036a94d0-f0db-44fb-aed4-a209a370a176",
   "metadata": {},
   "outputs": [],
   "source": [
    "uv.background = 'black'"
   ]
  },
  {
   "cell_type": "code",
   "execution_count": null,
   "id": "ff08c374-8f0a-463e-b948-a03c9d888590",
   "metadata": {},
   "outputs": [],
   "source": [
    "uv.clear_representations()"
   ]
  },
  {
   "cell_type": "code",
   "execution_count": null,
   "id": "59f4b525-dc86-4789-87aa-83421673147a",
   "metadata": {},
   "outputs": [],
   "source": [
    "uv.camera = 'orthographic'"
   ]
  },
  {
   "cell_type": "code",
   "execution_count": null,
   "id": "3b4f1a95-1fa5-433b-968c-edabbd67829a",
   "metadata": {},
   "outputs": [],
   "source": [
    "uv.add_representation('ball+stick', color = 'cyan', opacity = 0.2, selection = 'SOL')"
   ]
  },
  {
   "cell_type": "code",
   "execution_count": null,
   "id": "aa3b43f5-dcff-4103-8919-39472ae089b5",
   "metadata": {},
   "outputs": [],
   "source": [
    "uv.add_representation('ball+stick', opacity = 1, selection = 'MP_1 or MAMM')"
   ]
  },
  {
   "cell_type": "code",
   "execution_count": null,
   "id": "bf2f75fb-1295-429f-8bde-8205f2ec5c3d",
   "metadata": {},
   "outputs": [],
   "source": [
    "uv.add_unitcell(a = 4, b=4, c=10)"
   ]
  },
  {
   "cell_type": "markdown",
   "id": "702c1266-a313-4203-b216-dc36f894bb0b",
   "metadata": {},
   "source": [
    "add osmosis walls to visualization"
   ]
  },
  {
   "cell_type": "code",
   "execution_count": null,
   "id": "5d11352d-6b0c-4fbd-8a26-f8572373f060",
   "metadata": {},
   "outputs": [],
   "source": [
    "uv.shape.add_mesh([ 0, 0, 30, 0, 40, 30, 40, 0, 30, 0, 0, 40],\n",
    "                     [ 0, 1, 0, 0, 1, 0, 0, 1, 0, 0, 1, 0])"
   ]
  },
  {
   "cell_type": "code",
   "execution_count": null,
   "id": "c5378c58-7a0f-4bce-9a74-e22c2155bdc1",
   "metadata": {},
   "outputs": [],
   "source": [
    "uv.shape.add_mesh([ 40, 40, 30, 0, 40, 30, 40, 0, 30, 0, 0, 40],\n",
    "                     [ 0, 1, 0, 0, 1, 0, 0, 1, 0, 0, 1, 0])"
   ]
  },
  {
   "cell_type": "code",
   "execution_count": null,
   "id": "5a281f73-6891-47b6-9f09-47cbb1bb8f06",
   "metadata": {},
   "outputs": [],
   "source": [
    "uv.shape.add_mesh([ 0, 0, 70, 0, 40, 70, 40, 0, 70, 0, 0, 40],\n",
    "                     [ 0, 1, 0, 0, 1, 0, 0, 1, 0, 0, 1, 0])"
   ]
  },
  {
   "cell_type": "code",
   "execution_count": null,
   "id": "49cd44cf-5412-452f-84b6-f15f255428aa",
   "metadata": {},
   "outputs": [],
   "source": [
    "uv.shape.add_mesh([ 40, 40, 70, 0, 40, 70, 40, 0, 70, 0, 0, 40],\n",
    "                     [ 0, 1, 0, 0, 1, 0, 0, 1, 0, 0, 1, 0])"
   ]
  },
  {
   "cell_type": "markdown",
   "id": "6cbb3045-d55d-4b61-87a9-66d8948f0dcc",
   "metadata": {},
   "source": [
    "if everything looks fine, CHECK FOR SUFFICIENT EQUILIBRATION. If the system is NOT sufficiently equilibrated, run a longer production sim and dump the first few ns"
   ]
  },
  {
   "cell_type": "code",
   "execution_count": null,
   "id": "321fd8a7-f6d1-4fd1-ab44-8d41d1f30e75",
   "metadata": {},
   "outputs": [],
   "source": [
    "from MDAnalysis.analysis.base import AnalysisFromFunction"
   ]
  },
  {
   "cell_type": "raw",
   "id": "eb48eb9d-5b96-449f-8a99-fe0375831282",
   "metadata": {},
   "source": [
    "source: https://pubs.acs.org/doi/full/10.1021/jz900079w\n",
    "Luo & Roux 2009"
   ]
  },
  {
   "cell_type": "raw",
   "id": "476b491f-3555-4aec-a7cd-2005627e7c91",
   "metadata": {},
   "source": [
    "P_osmotic = <F_wall> / A"
   ]
  },
  {
   "cell_type": "raw",
   "id": "c1df8654-163a-4f11-928c-74b415efa7b6",
   "metadata": {},
   "source": [
    "<F_wall> = k * 1/N * sum(N) sum(i) (|z_i - z_wall|)"
   ]
  },
  {
   "cell_type": "code",
   "execution_count": null,
   "id": "dca96609-b13d-47db-8a0b-83fa006ad5f3",
   "metadata": {},
   "outputs": [],
   "source": [
    "A = 4*4 #nm^2"
   ]
  },
  {
   "cell_type": "code",
   "execution_count": null,
   "id": "0ca44bc2-ce87-4b33-af1c-77491022f358",
   "metadata": {},
   "outputs": [],
   "source": [
    "k = 1000 #kJ/mol/nm^2"
   ]
  },
  {
   "cell_type": "code",
   "execution_count": null,
   "id": "4362b4bb-8c44-4f14-a2c5-332c33869158",
   "metadata": {},
   "outputs": [],
   "source": [
    "z_wall_upper = 7 #nm"
   ]
  },
  {
   "cell_type": "code",
   "execution_count": null,
   "id": "a583da73-6260-4b62-a78b-89b0b6ec6125",
   "metadata": {},
   "outputs": [],
   "source": [
    "z_wall_lower = 3 #nm"
   ]
  },
  {
   "cell_type": "code",
   "execution_count": null,
   "id": "19ba6b80-7209-418f-b76f-ffe914add3b8",
   "metadata": {},
   "outputs": [],
   "source": [
    "def get_coords(atomgroup):\n",
    "    trajcoords = AnalysisFromFunction(lambda ag: ag.positions.copy(), atomgroup.atoms).run().results['timeseries']\n",
    "    return trajcoords"
   ]
  },
  {
   "cell_type": "code",
   "execution_count": null,
   "id": "fe5a80f8-72ea-435c-9627-04d71ef34f58",
   "metadata": {},
   "outputs": [],
   "source": [
    "anion = u.select_atoms('resname MP_1')\n",
    "cation = u.select_atoms('resname MAMM')"
   ]
  },
  {
   "cell_type": "code",
   "execution_count": null,
   "id": "0c644643-36e5-47e6-9fd5-cbd8b9fed844",
   "metadata": {},
   "outputs": [],
   "source": [
    "anion_coords = get_coords(anion) # watch out this needs some RAM. If you don't have sufficient, rewrite the vectorized analysis code below to have MDAnalysis loop over the frames (ts) instead.\n",
    "#cation_coords = get_coords(cation)"
   ]
  },
  {
   "cell_type": "code",
   "execution_count": null,
   "id": "d0137647-03e7-434a-83c2-b9fcb5f457cc",
   "metadata": {},
   "outputs": [],
   "source": [
    "mass_table_anion = [12,16,31,16,16,16,1,1,1,1] # atomic masses"
   ]
  },
  {
   "cell_type": "code",
   "execution_count": null,
   "id": "877eebb2-da6c-4958-9841-7055ce4208e4",
   "metadata": {},
   "outputs": [],
   "source": [
    "def calc_COM(molecule_coords, n_molecules, mass_table):\n",
    "    \n",
    "    extended_mass_table_atoms = mass_table * n_molecules\n",
    "    extended_mass_table_3d = np.tile(extended_mass_table_atoms, (3,1)).T\n",
    "    extended_mass_table = np.tile(extended_mass_table_3d, (molecule_coords.shape[0],1,1))\n",
    "    \n",
    "    mass_coords = molecule_coords * extended_mass_table\n",
    "    \n",
    "    COM = np.zeros((len(molecule_coords),n_molecules,3))\n",
    "    \n",
    "    for molecule in range(n_molecules):\n",
    "        mol_com = np.sum(mass_coords[:,(molecule+1)*10-10:(molecule+1)*10,:], axis=1) / np.sum((mass_table))\n",
    "        COM[:,molecule,:] = mol_com\n",
    "    \n",
    "    return COM"
   ]
  },
  {
   "cell_type": "code",
   "execution_count": null,
   "id": "22add087-6da3-4102-bd24-6d254a9cc5b8",
   "metadata": {},
   "outputs": [],
   "source": [
    "n_molecules = 23 # change according to actual concentration, this is 0.8 from the examples above "
   ]
  },
  {
   "cell_type": "code",
   "execution_count": null,
   "id": "b372eaef-a4a1-4433-8654-ecf5b5f9d70c",
   "metadata": {},
   "outputs": [],
   "source": [
    "anion_coms = calc_COM(anion_coords, n_molecules, mass_table_anion)"
   ]
  },
  {
   "cell_type": "code",
   "execution_count": null,
   "id": "e45a0d80-4af6-4d1e-859f-a75593faa691",
   "metadata": {},
   "outputs": [],
   "source": [
    "def find_trespassers(reduced_coords, z_wall_upper, z_wall_lower):\n",
    "    \n",
    "    z_mask_upper = (reduced_coords[:,:,-1] > z_wall_upper*10) #angström\n",
    "    z_mask_lower = (reduced_coords[:,:,-1] < z_wall_lower*10) #angström\n",
    "        \n",
    "    no_of_trespassers_upper = np.sum((z_mask_upper), axis=1)\n",
    "    no_of_trespassers_lower = np.sum((z_mask_lower), axis=1)\n",
    "    \n",
    "    return no_of_trespassers_upper, no_of_trespassers_lower"
   ]
  },
  {
   "cell_type": "code",
   "execution_count": null,
   "id": "f309abbc-4abe-4b09-9034-14e68061fe89",
   "metadata": {},
   "outputs": [],
   "source": [
    "tressp_upper, tressp_lower = find_trespassers(anion_coms, z_wall_upper, z_wall_lower)"
   ]
  },
  {
   "cell_type": "code",
   "execution_count": null,
   "id": "8fb10924-2c4f-47c0-99e6-540083100b94",
   "metadata": {},
   "outputs": [],
   "source": [
    "import matplotlib.pyplot as plt"
   ]
  },
  {
   "cell_type": "code",
   "execution_count": null,
   "id": "6275f41a-d27f-4faa-a81a-0b40a95ae780",
   "metadata": {},
   "outputs": [],
   "source": [
    "plt.scatter(np.arange(0,len(anion_coords),1), tressp_upper, label ='tresspassers_upper') \n",
    "plt.xlabel('frames')\n",
    "plt.legend()\n",
    "plt.show()\n",
    "plt.close()"
   ]
  },
  {
   "cell_type": "code",
   "execution_count": null,
   "id": "721c8258-5770-4a8e-b73d-aeb6f9450283",
   "metadata": {},
   "outputs": [],
   "source": [
    "plt.scatter(np.arange(0, len(anion_coords), 1), tressp_lower, label ='tresspassers_lower') \n",
    "plt.xlabel('frames')\n",
    "plt.legend()\n",
    "plt.show()\n",
    "plt.close()"
   ]
  },
  {
   "cell_type": "code",
   "execution_count": null,
   "id": "3350273f-7591-4294-9622-87b70ff195f9",
   "metadata": {},
   "outputs": [],
   "source": [
    "z_mask_upper = (anion_coms[:,:,-1] > z_wall_upper*10)"
   ]
  },
  {
   "cell_type": "code",
   "execution_count": null,
   "id": "5cefc59d-e7b9-4b32-bfa6-2e6494a4bcec",
   "metadata": {},
   "outputs": [],
   "source": [
    "z_mask_lower = (anion_coms[:,:,-1] < z_wall_lower*10)"
   ]
  },
  {
   "cell_type": "code",
   "execution_count": null,
   "id": "6a55a3bc-5c1e-4f25-a8f4-14c14fa36c40",
   "metadata": {},
   "outputs": [],
   "source": [
    "def calc_z_dist(reduced_z_coords, no_of_trespassers_upper, no_of_trespassers_lower, z_mask_upper, z_mask_lower, z_wall_upper, z_wall_lower):\n",
    "    z_dist_list = []\n",
    "    \n",
    "    for frame_no, frame in enumerate(reduced_z_coords[:]):\n",
    "        if no_of_trespassers_upper[frame_no] > 0:\n",
    "            #print('upper')\n",
    "            z_coords_upper = frame[z_mask_upper[frame_no]][0]\n",
    "            #print(z_coords_upper)\n",
    "            #print(z_wall_upper*10)\n",
    "            z_dist = z_coords_upper - (z_wall_upper*10)\n",
    "            #print(z_dist)\n",
    "            z_dist_list.append(z_dist)\n",
    "            \n",
    "        elif no_of_trespassers_lower[frame_no] > 0:\n",
    "            z_coords_lower = frame[z_mask_lower[frame_no]][0]\n",
    "            z_dist = np.abs(z_coords_lower - z_wall_lower*10)\n",
    "            z_dist_list.append(z_dist)\n",
    "            \n",
    "        elif (no_of_trespassers_upper[frame_no] > 0 & no_of_trespassers_lower[frame_no] > 0) == True:\n",
    "            z_coords_upper = frame[z_mask_upper[frame_no]][0]\n",
    "            z_dist_upper = np.abs(z_coords_upper - z_wall_upper*10)\n",
    "            z_dist_list.append(z_dist_upper)\n",
    "            \n",
    "            z_coords_lower = frame[z_mask_lower[frame_no]][0]\n",
    "            z_dist_lower = np.abs(z_coords_lower - z_wall_lower*10)\n",
    "            z_dist_list.append(z_dist_lower)\n",
    "    \n",
    "    return z_dist_list"
   ]
  },
  {
   "cell_type": "code",
   "execution_count": null,
   "id": "80a02fcf-4f70-4946-9e8b-2db3e5dc0ccb",
   "metadata": {},
   "outputs": [],
   "source": [
    "z_dist_list = np.array(calc_z_dist(anion_coms[:,:,-1], tressp_upper[:], tressp_lower[:], z_mask_upper[:], z_mask_lower[:], z_wall_upper, z_wall_lower))"
   ]
  },
  {
   "cell_type": "code",
   "execution_count": null,
   "id": "c02a4df5-0ce4-439d-aa08-6667cd63bb1b",
   "metadata": {},
   "outputs": [],
   "source": [
    "z_dist_list/10 # convert to nm"
   ]
  },
  {
   "cell_type": "code",
   "execution_count": null,
   "id": "00772959-93b1-49d3-a61b-7c37fc117858",
   "metadata": {},
   "outputs": [],
   "source": [
    "P_osmotic = ((1/(len(anion_coords))) * k * np.sum(z_dist_list/10)) / A"
   ]
  },
  {
   "cell_type": "code",
   "execution_count": null,
   "id": "55b10036-4f80-47cc-8f6e-60d4435cf2fe",
   "metadata": {},
   "outputs": [],
   "source": [
    "P_osmotic # kJ/mol/nm³"
   ]
  },
  {
   "cell_type": "markdown",
   "id": "ecd4f717-7e61-4fb0-9e4a-e30fe6c53e78",
   "metadata": {},
   "source": [
    "convert to SI units (Pascal)"
   ]
  },
  {
   "cell_type": "code",
   "execution_count": 77,
   "id": "0695a926-21e8-4d0f-abbd-d1a55edb38df",
   "metadata": {},
   "outputs": [],
   "source": [
    "osm_press_si = []\n",
    "for sys,osm_value in enumerate(P_osmotic):\n",
    "    op_Pa = (osm_value * 10**30) * (teilchen_rounded[sys]/avogadro) # Pa\n",
    "    osm_press_si.append(op_Pa)"
   ]
  },
  {
   "cell_type": "code",
   "execution_count": null,
   "id": "bf96195d-e07d-4cb0-bb99-76ea74f0f2ca",
   "metadata": {},
   "outputs": [],
   "source": [
    "osm_press_si # Pa"
   ]
  },
  {
   "cell_type": "code",
   "execution_count": 79,
   "id": "d1ed064a-f2f4-4400-827b-10964947d46e",
   "metadata": {},
   "outputs": [
    {
     "data": {
      "image/png": "[encoded data removed]",
      "text/plain": [
       "<Figure size 640x480 with 1 Axes>"
      ]
     },
     "metadata": {},
     "output_type": "display_data"
    }
   ],
   "source": [
    "plt.scatter(concentrations, osm_press_si)\n",
    "plt.xlabel('c / mol/L')\n",
    "plt.ylabel('P_osmotic / Pa')\n",
    "plt.savefig('p_osm.png')"
   ]
  },
  {
   "cell_type": "code",
   "execution_count": 80,
   "id": "ad78ecfb-22d3-4791-9835-98299df49a74",
   "metadata": {},
   "outputs": [],
   "source": [
    "plt.close()"
   ]
  },
  {
   "cell_type": "code",
   "execution_count": null,
   "id": "4a94cef1-82c1-41fc-8146-132801832ff4",
   "metadata": {},
   "outputs": [],
   "source": []
  },
  {
   "cell_type": "markdown",
   "id": "c7ed5d4c-b87c-48ff-abef-97c13f01b5c9",
   "metadata": {},
   "source": [
    "## Check for convergence/equilibration"
   ]
  },
  {
   "cell_type": "code",
   "execution_count": null,
   "id": "44610d49-e8fb-40bc-be8f-7686e6d3936a",
   "metadata": {},
   "outputs": [],
   "source": [
    "frame_intervals = np.arange(0,len(anion_coords),5000) # whichever interval size suits you"
   ]
  },
  {
   "cell_type": "code",
   "execution_count": null,
   "id": "9c9de2dc-1d5c-494d-9c71-83f74b435f84",
   "metadata": {},
   "outputs": [],
   "source": [
    "P_osmotic_intervals = []\n",
    "for frames_i_nr, frames_interval in enumerate(frame_intervals):\n",
    "    try: \n",
    "        z_dist_list = np.array(calc_z_dist(anion_coms[frames_interval:frame_intervals[frames_i_nr+1],:,-1], tressp_upper[frames_interval:frame_intervals[frames_i_nr+1]], tressp_lower[frames_interval:frame_intervals[frames_i_nr+1]], z_mask_upper[frames_interval:frame_intervals[frames_i_nr+1]], z_mask_lower[frames_interval:frame_intervals[frames_i_nr+1]], z_wall_upper, z_wall_lower))\n",
    "        P_osmotic = ((1/(len(anion_coords)/(len(frame_intervals)-1))) * k * np.sum(z_dist_list/10)) / A\n",
    "        P_osmotic_intervals.append(P_osmotic)\n",
    "    except: IndexError\n",
    "        "
   ]
  },
  {
   "cell_type": "code",
   "execution_count": null,
   "id": "1ec2efb4-0e22-4792-9efa-34b5d9abe545",
   "metadata": {},
   "outputs": [],
   "source": [
    "P_osmotic_intervals"
   ]
  },
  {
   "cell_type": "code",
   "execution_count": null,
   "id": "d87b04b0-2f4e-406b-85ef-8600c141aa92",
   "metadata": {},
   "outputs": [],
   "source": [
    "np.arange(0,len(anion_coords),5000)"
   ]
  },
  {
   "cell_type": "code",
   "execution_count": null,
   "id": "2fe96b2b-121b-49f8-8c37-c4b23130220c",
   "metadata": {},
   "outputs": [],
   "source": [
    "plt.scatter(np.arange(5000,len(anion_coords),5000), P_osmotic_intervals)"
   ]
  },
  {
   "cell_type": "code",
   "execution_count": null,
   "id": "5f194262-e503-49b4-a7c4-0b9455b53012",
   "metadata": {},
   "outputs": [],
   "source": [
    "frame_intervals = np.arange(0, len(anion_coords), 5000)"
   ]
  },
  {
   "cell_type": "code",
   "execution_count": null,
   "id": "d5f3f170-1a3a-47ab-b11b-c152bffd5ec9",
   "metadata": {},
   "outputs": [],
   "source": [
    "P_osmotic_intervals = []\n",
    "for frames_i_nr, frames_interval in enumerate(frame_intervals):\n",
    "    try: \n",
    "        z_dist_list = np.array(calc_z_dist(anion_coms[frames_interval:frame_intervals[frames_i_nr+1],:,-1], tressp_upper[frames_interval:frame_intervals[frames_i_nr+1]], tressp_lower[frames_interval:frame_intervals[frames_i_nr+1]], z_mask_upper[frames_interval:frame_intervals[frames_i_nr+1]], z_mask_lower[frames_interval:frame_intervals[frames_i_nr+1]], z_wall_upper, z_wall_lower))\n",
    "        P_osmotic = ((1/(len(anion_coords)/(len(frame_intervals)-1))) * k * np.sum(z_dist_list/10)) / A\n",
    "        P_osmotic_intervals.append(P_osmotic)\n",
    "    except: IndexError\n",
    "        "
   ]
  },
  {
   "cell_type": "code",
   "execution_count": null,
   "id": "9e37ca9a-b22a-46ae-bb10-a9c97f58ff5c",
   "metadata": {},
   "outputs": [],
   "source": [
    "len(P_osmotic_intervals)"
   ]
  },
  {
   "cell_type": "code",
   "execution_count": null,
   "id": "5c8d305d-c43f-4dc7-974f-1237e0ea1ea4",
   "metadata": {},
   "outputs": [],
   "source": [
    "np.arange(5000,len(anion_coords),5000).shape"
   ]
  },
  {
   "cell_type": "code",
   "execution_count": null,
   "id": "8546459a-93d9-4c39-84d4-856e301f2895",
   "metadata": {},
   "outputs": [],
   "source": [
    "plt.scatter(np.arange(5000,len(anion_coords),5000), P_osmotic_intervals)"
   ]
  },
  {
   "cell_type": "markdown",
   "id": "8f95bb10-af7d-4372-8bdd-ce28c673195c",
   "metadata": {},
   "source": [
    "looks homogeneous? Nice. If not, run longer production sim and dump the inhomogeneous part for analysis"
   ]
  },
  {
   "cell_type": "code",
   "execution_count": null,
   "id": "bfbbd7f0-b8ad-4221-acaa-1b9a276c1e44",
   "metadata": {},
   "outputs": [],
   "source": []
  }
 ],
 "metadata": {
  "kernelspec": {
   "display_name": "Python 3 (ipykernel)",
   "language": "python",
   "name": "python3"
  },
  "language_info": {
   "codemirror_mode": {
    "name": "ipython",
    "version": 3
   },
   "file_extension": ".py",
   "mimetype": "text/x-python",
   "name": "python",
   "nbconvert_exporter": "python",
   "pygments_lexer": "ipython3",
   "version": "3.8.15"
  }
 },
 "nbformat": 4,
 "nbformat_minor": 5
}
